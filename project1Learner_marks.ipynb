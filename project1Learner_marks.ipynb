{
  "nbformat": 4,
  "nbformat_minor": 0,
  "metadata": {
    "colab": {
      "provenance": []
    },
    "kernelspec": {
      "name": "python3",
      "display_name": "Python 3"
    },
    "language_info": {
      "name": "python"
    }
  },
  "cells": [
    {
      "cell_type": "code",
      "execution_count": null,
      "metadata": {
        "id": "9qj6mXPzQyTk"
      },
      "outputs": [],
      "source": [
        "import pandas as pd\n",
        "import numpy as np\n",
        "import warnings\n",
        "warnings.filterwarnings('ignore')\n"
      ]
    },
    {
      "cell_type": "code",
      "source": [
        "#Now we are importing the dataset\n",
        "data=pd.read_csv('/content/Learner_marks_record.csv')"
      ],
      "metadata": {
        "id": "Nv8e4R44RU94"
      },
      "execution_count": null,
      "outputs": []
    },
    {
      "cell_type": "code",
      "source": [
        "data.head()"
      ],
      "metadata": {
        "colab": {
          "base_uri": "https://localhost:8080/",
          "height": 206
        },
        "id": "VsssW3KsRiHI",
        "outputId": "42322938-f9e5-4be2-8fe6-22472131534b"
      },
      "execution_count": null,
      "outputs": [
        {
          "output_type": "execute_result",
          "data": {
            "text/plain": [
              "   Hours_to_study  Obtained_Marks\n",
              "0            6.83           78.50\n",
              "1            6.56           76.74\n",
              "2             NaN           78.68\n",
              "3            5.67           71.82\n",
              "4            8.67           84.19"
            ],
            "text/html": [
              "\n",
              "  <div id=\"df-1aa4384d-c938-4592-b65f-758b7bf7e19c\">\n",
              "    <div class=\"colab-df-container\">\n",
              "      <div>\n",
              "<style scoped>\n",
              "    .dataframe tbody tr th:only-of-type {\n",
              "        vertical-align: middle;\n",
              "    }\n",
              "\n",
              "    .dataframe tbody tr th {\n",
              "        vertical-align: top;\n",
              "    }\n",
              "\n",
              "    .dataframe thead th {\n",
              "        text-align: right;\n",
              "    }\n",
              "</style>\n",
              "<table border=\"1\" class=\"dataframe\">\n",
              "  <thead>\n",
              "    <tr style=\"text-align: right;\">\n",
              "      <th></th>\n",
              "      <th>Hours_to_study</th>\n",
              "      <th>Obtained_Marks</th>\n",
              "    </tr>\n",
              "  </thead>\n",
              "  <tbody>\n",
              "    <tr>\n",
              "      <th>0</th>\n",
              "      <td>6.83</td>\n",
              "      <td>78.50</td>\n",
              "    </tr>\n",
              "    <tr>\n",
              "      <th>1</th>\n",
              "      <td>6.56</td>\n",
              "      <td>76.74</td>\n",
              "    </tr>\n",
              "    <tr>\n",
              "      <th>2</th>\n",
              "      <td>NaN</td>\n",
              "      <td>78.68</td>\n",
              "    </tr>\n",
              "    <tr>\n",
              "      <th>3</th>\n",
              "      <td>5.67</td>\n",
              "      <td>71.82</td>\n",
              "    </tr>\n",
              "    <tr>\n",
              "      <th>4</th>\n",
              "      <td>8.67</td>\n",
              "      <td>84.19</td>\n",
              "    </tr>\n",
              "  </tbody>\n",
              "</table>\n",
              "</div>\n",
              "      <button class=\"colab-df-convert\" onclick=\"convertToInteractive('df-1aa4384d-c938-4592-b65f-758b7bf7e19c')\"\n",
              "              title=\"Convert this dataframe to an interactive table.\"\n",
              "              style=\"display:none;\">\n",
              "        \n",
              "  <svg xmlns=\"http://www.w3.org/2000/svg\" height=\"24px\"viewBox=\"0 0 24 24\"\n",
              "       width=\"24px\">\n",
              "    <path d=\"M0 0h24v24H0V0z\" fill=\"none\"/>\n",
              "    <path d=\"M18.56 5.44l.94 2.06.94-2.06 2.06-.94-2.06-.94-.94-2.06-.94 2.06-2.06.94zm-11 1L8.5 8.5l.94-2.06 2.06-.94-2.06-.94L8.5 2.5l-.94 2.06-2.06.94zm10 10l.94 2.06.94-2.06 2.06-.94-2.06-.94-.94-2.06-.94 2.06-2.06.94z\"/><path d=\"M17.41 7.96l-1.37-1.37c-.4-.4-.92-.59-1.43-.59-.52 0-1.04.2-1.43.59L10.3 9.45l-7.72 7.72c-.78.78-.78 2.05 0 2.83L4 21.41c.39.39.9.59 1.41.59.51 0 1.02-.2 1.41-.59l7.78-7.78 2.81-2.81c.8-.78.8-2.07 0-2.86zM5.41 20L4 18.59l7.72-7.72 1.47 1.35L5.41 20z\"/>\n",
              "  </svg>\n",
              "      </button>\n",
              "      \n",
              "  <style>\n",
              "    .colab-df-container {\n",
              "      display:flex;\n",
              "      flex-wrap:wrap;\n",
              "      gap: 12px;\n",
              "    }\n",
              "\n",
              "    .colab-df-convert {\n",
              "      background-color: #E8F0FE;\n",
              "      border: none;\n",
              "      border-radius: 50%;\n",
              "      cursor: pointer;\n",
              "      display: none;\n",
              "      fill: #1967D2;\n",
              "      height: 32px;\n",
              "      padding: 0 0 0 0;\n",
              "      width: 32px;\n",
              "    }\n",
              "\n",
              "    .colab-df-convert:hover {\n",
              "      background-color: #E2EBFA;\n",
              "      box-shadow: 0px 1px 2px rgba(60, 64, 67, 0.3), 0px 1px 3px 1px rgba(60, 64, 67, 0.15);\n",
              "      fill: #174EA6;\n",
              "    }\n",
              "\n",
              "    [theme=dark] .colab-df-convert {\n",
              "      background-color: #3B4455;\n",
              "      fill: #D2E3FC;\n",
              "    }\n",
              "\n",
              "    [theme=dark] .colab-df-convert:hover {\n",
              "      background-color: #434B5C;\n",
              "      box-shadow: 0px 1px 3px 1px rgba(0, 0, 0, 0.15);\n",
              "      filter: drop-shadow(0px 1px 2px rgba(0, 0, 0, 0.3));\n",
              "      fill: #FFFFFF;\n",
              "    }\n",
              "  </style>\n",
              "\n",
              "      <script>\n",
              "        const buttonEl =\n",
              "          document.querySelector('#df-1aa4384d-c938-4592-b65f-758b7bf7e19c button.colab-df-convert');\n",
              "        buttonEl.style.display =\n",
              "          google.colab.kernel.accessAllowed ? 'block' : 'none';\n",
              "\n",
              "        async function convertToInteractive(key) {\n",
              "          const element = document.querySelector('#df-1aa4384d-c938-4592-b65f-758b7bf7e19c');\n",
              "          const dataTable =\n",
              "            await google.colab.kernel.invokeFunction('convertToInteractive',\n",
              "                                                     [key], {});\n",
              "          if (!dataTable) return;\n",
              "\n",
              "          const docLinkHtml = 'Like what you see? Visit the ' +\n",
              "            '<a target=\"_blank\" href=https://colab.research.google.com/notebooks/data_table.ipynb>data table notebook</a>'\n",
              "            + ' to learn more about interactive tables.';\n",
              "          element.innerHTML = '';\n",
              "          dataTable['output_type'] = 'display_data';\n",
              "          await google.colab.output.renderOutput(dataTable, element);\n",
              "          const docLink = document.createElement('div');\n",
              "          docLink.innerHTML = docLinkHtml;\n",
              "          element.appendChild(docLink);\n",
              "        }\n",
              "      </script>\n",
              "    </div>\n",
              "  </div>\n",
              "  "
            ]
          },
          "metadata": {},
          "execution_count": 3
        }
      ]
    },
    {
      "cell_type": "code",
      "source": [
        "#checking the null values \n",
        "data.isnull().sum()"
      ],
      "metadata": {
        "colab": {
          "base_uri": "https://localhost:8080/"
        },
        "id": "6Y-eTqdURjAd",
        "outputId": "c18fe642-c8f7-4e03-b67c-195c4562a07c"
      },
      "execution_count": null,
      "outputs": [
        {
          "output_type": "execute_result",
          "data": {
            "text/plain": [
              "Hours_to_study    5\n",
              "Obtained_Marks    0\n",
              "dtype: int64"
            ]
          },
          "metadata": {},
          "execution_count": 4
        }
      ]
    },
    {
      "cell_type": "code",
      "source": [
        "#Basically we have very less null values so we can ignore this \n",
        "data1=data.dropna()"
      ],
      "metadata": {
        "id": "yh0s_QT0R3DO"
      },
      "execution_count": null,
      "outputs": []
    },
    {
      "cell_type": "code",
      "source": [
        "data1.isnull().sum()"
      ],
      "metadata": {
        "colab": {
          "base_uri": "https://localhost:8080/"
        },
        "id": "rVaWtH0ISDDK",
        "outputId": "3412dc8e-839d-44bc-dd4c-74cfa39a1714"
      },
      "execution_count": null,
      "outputs": [
        {
          "output_type": "execute_result",
          "data": {
            "text/plain": [
              "Hours_to_study    0\n",
              "Obtained_Marks    0\n",
              "dtype: int64"
            ]
          },
          "metadata": {},
          "execution_count": 6
        }
      ]
    },
    {
      "cell_type": "code",
      "source": [
        "#now all the null values have been dropped now we can proceed we the next steps of modeling..\n",
        "#Now we are checking the object of data\n",
        "data.info()"
      ],
      "metadata": {
        "colab": {
          "base_uri": "https://localhost:8080/"
        },
        "id": "c12lNFCMSGmV",
        "outputId": "130391f3-18bb-4bec-ace3-49d634cc8868"
      },
      "execution_count": null,
      "outputs": [
        {
          "output_type": "stream",
          "name": "stdout",
          "text": [
            "<class 'pandas.core.frame.DataFrame'>\n",
            "RangeIndex: 200 entries, 0 to 199\n",
            "Data columns (total 2 columns):\n",
            " #   Column          Non-Null Count  Dtype  \n",
            "---  ------          --------------  -----  \n",
            " 0   Hours_to_study  195 non-null    float64\n",
            " 1   Obtained_Marks  200 non-null    float64\n",
            "dtypes: float64(2)\n",
            "memory usage: 3.2 KB\n"
          ]
        }
      ]
    },
    {
      "cell_type": "code",
      "source": [
        "#Now we are dividing the data into two parts \n",
        "X=data1[['Hours_to_study']]"
      ],
      "metadata": {
        "id": "A01osqIBSb1L"
      },
      "execution_count": null,
      "outputs": []
    },
    {
      "cell_type": "code",
      "source": [
        "X"
      ],
      "metadata": {
        "colab": {
          "base_uri": "https://localhost:8080/",
          "height": 424
        },
        "id": "R1uvlC7USp0P",
        "outputId": "5cd13233-8e06-4e41-a12e-7a25f739c80a"
      },
      "execution_count": null,
      "outputs": [
        {
          "output_type": "execute_result",
          "data": {
            "text/plain": [
              "     Hours_to_study\n",
              "0              6.83\n",
              "1              6.56\n",
              "3              5.67\n",
              "4              8.67\n",
              "5              7.55\n",
              "..              ...\n",
              "195            7.53\n",
              "196            8.56\n",
              "197            8.94\n",
              "198            6.60\n",
              "199            8.35\n",
              "\n",
              "[195 rows x 1 columns]"
            ],
            "text/html": [
              "\n",
              "  <div id=\"df-b4d0cfbe-8670-4f32-bc88-a0af4ee4cf1c\">\n",
              "    <div class=\"colab-df-container\">\n",
              "      <div>\n",
              "<style scoped>\n",
              "    .dataframe tbody tr th:only-of-type {\n",
              "        vertical-align: middle;\n",
              "    }\n",
              "\n",
              "    .dataframe tbody tr th {\n",
              "        vertical-align: top;\n",
              "    }\n",
              "\n",
              "    .dataframe thead th {\n",
              "        text-align: right;\n",
              "    }\n",
              "</style>\n",
              "<table border=\"1\" class=\"dataframe\">\n",
              "  <thead>\n",
              "    <tr style=\"text-align: right;\">\n",
              "      <th></th>\n",
              "      <th>Hours_to_study</th>\n",
              "    </tr>\n",
              "  </thead>\n",
              "  <tbody>\n",
              "    <tr>\n",
              "      <th>0</th>\n",
              "      <td>6.83</td>\n",
              "    </tr>\n",
              "    <tr>\n",
              "      <th>1</th>\n",
              "      <td>6.56</td>\n",
              "    </tr>\n",
              "    <tr>\n",
              "      <th>3</th>\n",
              "      <td>5.67</td>\n",
              "    </tr>\n",
              "    <tr>\n",
              "      <th>4</th>\n",
              "      <td>8.67</td>\n",
              "    </tr>\n",
              "    <tr>\n",
              "      <th>5</th>\n",
              "      <td>7.55</td>\n",
              "    </tr>\n",
              "    <tr>\n",
              "      <th>...</th>\n",
              "      <td>...</td>\n",
              "    </tr>\n",
              "    <tr>\n",
              "      <th>195</th>\n",
              "      <td>7.53</td>\n",
              "    </tr>\n",
              "    <tr>\n",
              "      <th>196</th>\n",
              "      <td>8.56</td>\n",
              "    </tr>\n",
              "    <tr>\n",
              "      <th>197</th>\n",
              "      <td>8.94</td>\n",
              "    </tr>\n",
              "    <tr>\n",
              "      <th>198</th>\n",
              "      <td>6.60</td>\n",
              "    </tr>\n",
              "    <tr>\n",
              "      <th>199</th>\n",
              "      <td>8.35</td>\n",
              "    </tr>\n",
              "  </tbody>\n",
              "</table>\n",
              "<p>195 rows × 1 columns</p>\n",
              "</div>\n",
              "      <button class=\"colab-df-convert\" onclick=\"convertToInteractive('df-b4d0cfbe-8670-4f32-bc88-a0af4ee4cf1c')\"\n",
              "              title=\"Convert this dataframe to an interactive table.\"\n",
              "              style=\"display:none;\">\n",
              "        \n",
              "  <svg xmlns=\"http://www.w3.org/2000/svg\" height=\"24px\"viewBox=\"0 0 24 24\"\n",
              "       width=\"24px\">\n",
              "    <path d=\"M0 0h24v24H0V0z\" fill=\"none\"/>\n",
              "    <path d=\"M18.56 5.44l.94 2.06.94-2.06 2.06-.94-2.06-.94-.94-2.06-.94 2.06-2.06.94zm-11 1L8.5 8.5l.94-2.06 2.06-.94-2.06-.94L8.5 2.5l-.94 2.06-2.06.94zm10 10l.94 2.06.94-2.06 2.06-.94-2.06-.94-.94-2.06-.94 2.06-2.06.94z\"/><path d=\"M17.41 7.96l-1.37-1.37c-.4-.4-.92-.59-1.43-.59-.52 0-1.04.2-1.43.59L10.3 9.45l-7.72 7.72c-.78.78-.78 2.05 0 2.83L4 21.41c.39.39.9.59 1.41.59.51 0 1.02-.2 1.41-.59l7.78-7.78 2.81-2.81c.8-.78.8-2.07 0-2.86zM5.41 20L4 18.59l7.72-7.72 1.47 1.35L5.41 20z\"/>\n",
              "  </svg>\n",
              "      </button>\n",
              "      \n",
              "  <style>\n",
              "    .colab-df-container {\n",
              "      display:flex;\n",
              "      flex-wrap:wrap;\n",
              "      gap: 12px;\n",
              "    }\n",
              "\n",
              "    .colab-df-convert {\n",
              "      background-color: #E8F0FE;\n",
              "      border: none;\n",
              "      border-radius: 50%;\n",
              "      cursor: pointer;\n",
              "      display: none;\n",
              "      fill: #1967D2;\n",
              "      height: 32px;\n",
              "      padding: 0 0 0 0;\n",
              "      width: 32px;\n",
              "    }\n",
              "\n",
              "    .colab-df-convert:hover {\n",
              "      background-color: #E2EBFA;\n",
              "      box-shadow: 0px 1px 2px rgba(60, 64, 67, 0.3), 0px 1px 3px 1px rgba(60, 64, 67, 0.15);\n",
              "      fill: #174EA6;\n",
              "    }\n",
              "\n",
              "    [theme=dark] .colab-df-convert {\n",
              "      background-color: #3B4455;\n",
              "      fill: #D2E3FC;\n",
              "    }\n",
              "\n",
              "    [theme=dark] .colab-df-convert:hover {\n",
              "      background-color: #434B5C;\n",
              "      box-shadow: 0px 1px 3px 1px rgba(0, 0, 0, 0.15);\n",
              "      filter: drop-shadow(0px 1px 2px rgba(0, 0, 0, 0.3));\n",
              "      fill: #FFFFFF;\n",
              "    }\n",
              "  </style>\n",
              "\n",
              "      <script>\n",
              "        const buttonEl =\n",
              "          document.querySelector('#df-b4d0cfbe-8670-4f32-bc88-a0af4ee4cf1c button.colab-df-convert');\n",
              "        buttonEl.style.display =\n",
              "          google.colab.kernel.accessAllowed ? 'block' : 'none';\n",
              "\n",
              "        async function convertToInteractive(key) {\n",
              "          const element = document.querySelector('#df-b4d0cfbe-8670-4f32-bc88-a0af4ee4cf1c');\n",
              "          const dataTable =\n",
              "            await google.colab.kernel.invokeFunction('convertToInteractive',\n",
              "                                                     [key], {});\n",
              "          if (!dataTable) return;\n",
              "\n",
              "          const docLinkHtml = 'Like what you see? Visit the ' +\n",
              "            '<a target=\"_blank\" href=https://colab.research.google.com/notebooks/data_table.ipynb>data table notebook</a>'\n",
              "            + ' to learn more about interactive tables.';\n",
              "          element.innerHTML = '';\n",
              "          dataTable['output_type'] = 'display_data';\n",
              "          await google.colab.output.renderOutput(dataTable, element);\n",
              "          const docLink = document.createElement('div');\n",
              "          docLink.innerHTML = docLinkHtml;\n",
              "          element.appendChild(docLink);\n",
              "        }\n",
              "      </script>\n",
              "    </div>\n",
              "  </div>\n",
              "  "
            ]
          },
          "metadata": {},
          "execution_count": 9
        }
      ]
    },
    {
      "cell_type": "code",
      "source": [
        "y=data1[['Obtained_Marks']]"
      ],
      "metadata": {
        "id": "IhGInLq5S2jk"
      },
      "execution_count": null,
      "outputs": []
    },
    {
      "cell_type": "code",
      "source": [
        "y"
      ],
      "metadata": {
        "colab": {
          "base_uri": "https://localhost:8080/",
          "height": 424
        },
        "id": "03THghMDS7iK",
        "outputId": "95ac14aa-aa50-41b5-831b-bff771017f47"
      },
      "execution_count": null,
      "outputs": [
        {
          "output_type": "execute_result",
          "data": {
            "text/plain": [
              "     Obtained_Marks\n",
              "0             78.50\n",
              "1             76.74\n",
              "3             71.82\n",
              "4             84.19\n",
              "5             81.18\n",
              "..              ...\n",
              "195           81.67\n",
              "196           84.68\n",
              "197           86.75\n",
              "198           78.05\n",
              "199           83.50\n",
              "\n",
              "[195 rows x 1 columns]"
            ],
            "text/html": [
              "\n",
              "  <div id=\"df-f64a7956-9e29-4fa6-9951-da61e9030df9\">\n",
              "    <div class=\"colab-df-container\">\n",
              "      <div>\n",
              "<style scoped>\n",
              "    .dataframe tbody tr th:only-of-type {\n",
              "        vertical-align: middle;\n",
              "    }\n",
              "\n",
              "    .dataframe tbody tr th {\n",
              "        vertical-align: top;\n",
              "    }\n",
              "\n",
              "    .dataframe thead th {\n",
              "        text-align: right;\n",
              "    }\n",
              "</style>\n",
              "<table border=\"1\" class=\"dataframe\">\n",
              "  <thead>\n",
              "    <tr style=\"text-align: right;\">\n",
              "      <th></th>\n",
              "      <th>Obtained_Marks</th>\n",
              "    </tr>\n",
              "  </thead>\n",
              "  <tbody>\n",
              "    <tr>\n",
              "      <th>0</th>\n",
              "      <td>78.50</td>\n",
              "    </tr>\n",
              "    <tr>\n",
              "      <th>1</th>\n",
              "      <td>76.74</td>\n",
              "    </tr>\n",
              "    <tr>\n",
              "      <th>3</th>\n",
              "      <td>71.82</td>\n",
              "    </tr>\n",
              "    <tr>\n",
              "      <th>4</th>\n",
              "      <td>84.19</td>\n",
              "    </tr>\n",
              "    <tr>\n",
              "      <th>5</th>\n",
              "      <td>81.18</td>\n",
              "    </tr>\n",
              "    <tr>\n",
              "      <th>...</th>\n",
              "      <td>...</td>\n",
              "    </tr>\n",
              "    <tr>\n",
              "      <th>195</th>\n",
              "      <td>81.67</td>\n",
              "    </tr>\n",
              "    <tr>\n",
              "      <th>196</th>\n",
              "      <td>84.68</td>\n",
              "    </tr>\n",
              "    <tr>\n",
              "      <th>197</th>\n",
              "      <td>86.75</td>\n",
              "    </tr>\n",
              "    <tr>\n",
              "      <th>198</th>\n",
              "      <td>78.05</td>\n",
              "    </tr>\n",
              "    <tr>\n",
              "      <th>199</th>\n",
              "      <td>83.50</td>\n",
              "    </tr>\n",
              "  </tbody>\n",
              "</table>\n",
              "<p>195 rows × 1 columns</p>\n",
              "</div>\n",
              "      <button class=\"colab-df-convert\" onclick=\"convertToInteractive('df-f64a7956-9e29-4fa6-9951-da61e9030df9')\"\n",
              "              title=\"Convert this dataframe to an interactive table.\"\n",
              "              style=\"display:none;\">\n",
              "        \n",
              "  <svg xmlns=\"http://www.w3.org/2000/svg\" height=\"24px\"viewBox=\"0 0 24 24\"\n",
              "       width=\"24px\">\n",
              "    <path d=\"M0 0h24v24H0V0z\" fill=\"none\"/>\n",
              "    <path d=\"M18.56 5.44l.94 2.06.94-2.06 2.06-.94-2.06-.94-.94-2.06-.94 2.06-2.06.94zm-11 1L8.5 8.5l.94-2.06 2.06-.94-2.06-.94L8.5 2.5l-.94 2.06-2.06.94zm10 10l.94 2.06.94-2.06 2.06-.94-2.06-.94-.94-2.06-.94 2.06-2.06.94z\"/><path d=\"M17.41 7.96l-1.37-1.37c-.4-.4-.92-.59-1.43-.59-.52 0-1.04.2-1.43.59L10.3 9.45l-7.72 7.72c-.78.78-.78 2.05 0 2.83L4 21.41c.39.39.9.59 1.41.59.51 0 1.02-.2 1.41-.59l7.78-7.78 2.81-2.81c.8-.78.8-2.07 0-2.86zM5.41 20L4 18.59l7.72-7.72 1.47 1.35L5.41 20z\"/>\n",
              "  </svg>\n",
              "      </button>\n",
              "      \n",
              "  <style>\n",
              "    .colab-df-container {\n",
              "      display:flex;\n",
              "      flex-wrap:wrap;\n",
              "      gap: 12px;\n",
              "    }\n",
              "\n",
              "    .colab-df-convert {\n",
              "      background-color: #E8F0FE;\n",
              "      border: none;\n",
              "      border-radius: 50%;\n",
              "      cursor: pointer;\n",
              "      display: none;\n",
              "      fill: #1967D2;\n",
              "      height: 32px;\n",
              "      padding: 0 0 0 0;\n",
              "      width: 32px;\n",
              "    }\n",
              "\n",
              "    .colab-df-convert:hover {\n",
              "      background-color: #E2EBFA;\n",
              "      box-shadow: 0px 1px 2px rgba(60, 64, 67, 0.3), 0px 1px 3px 1px rgba(60, 64, 67, 0.15);\n",
              "      fill: #174EA6;\n",
              "    }\n",
              "\n",
              "    [theme=dark] .colab-df-convert {\n",
              "      background-color: #3B4455;\n",
              "      fill: #D2E3FC;\n",
              "    }\n",
              "\n",
              "    [theme=dark] .colab-df-convert:hover {\n",
              "      background-color: #434B5C;\n",
              "      box-shadow: 0px 1px 3px 1px rgba(0, 0, 0, 0.15);\n",
              "      filter: drop-shadow(0px 1px 2px rgba(0, 0, 0, 0.3));\n",
              "      fill: #FFFFFF;\n",
              "    }\n",
              "  </style>\n",
              "\n",
              "      <script>\n",
              "        const buttonEl =\n",
              "          document.querySelector('#df-f64a7956-9e29-4fa6-9951-da61e9030df9 button.colab-df-convert');\n",
              "        buttonEl.style.display =\n",
              "          google.colab.kernel.accessAllowed ? 'block' : 'none';\n",
              "\n",
              "        async function convertToInteractive(key) {\n",
              "          const element = document.querySelector('#df-f64a7956-9e29-4fa6-9951-da61e9030df9');\n",
              "          const dataTable =\n",
              "            await google.colab.kernel.invokeFunction('convertToInteractive',\n",
              "                                                     [key], {});\n",
              "          if (!dataTable) return;\n",
              "\n",
              "          const docLinkHtml = 'Like what you see? Visit the ' +\n",
              "            '<a target=\"_blank\" href=https://colab.research.google.com/notebooks/data_table.ipynb>data table notebook</a>'\n",
              "            + ' to learn more about interactive tables.';\n",
              "          element.innerHTML = '';\n",
              "          dataTable['output_type'] = 'display_data';\n",
              "          await google.colab.output.renderOutput(dataTable, element);\n",
              "          const docLink = document.createElement('div');\n",
              "          docLink.innerHTML = docLinkHtml;\n",
              "          element.appendChild(docLink);\n",
              "        }\n",
              "      </script>\n",
              "    </div>\n",
              "  </div>\n",
              "  "
            ]
          },
          "metadata": {},
          "execution_count": 11
        }
      ]
    },
    {
      "cell_type": "code",
      "source": [
        "#now we have divided the data into 2 parts\n",
        "#Now we are applying the train_test_split \n",
        "from sklearn.model_selection import train_test_split"
      ],
      "metadata": {
        "id": "4UfeTMCuS8Yd"
      },
      "execution_count": null,
      "outputs": []
    },
    {
      "cell_type": "code",
      "source": [
        "X_train, X_test, y_train, y_test = train_test_split(X,y, train_size = 0.75, random_state = 0)"
      ],
      "metadata": {
        "id": "yEASwmXRToIi"
      },
      "execution_count": null,
      "outputs": []
    },
    {
      "cell_type": "code",
      "source": [
        "print(X_train.shape)\n",
        "print(X_test.shape)\n",
        "print(y_train.shape)\n",
        "print(y_test.shape)"
      ],
      "metadata": {
        "colab": {
          "base_uri": "https://localhost:8080/"
        },
        "id": "At78nRxnT39k",
        "outputId": "b86079ec-28f1-4b26-f8f2-c590913c4a1b"
      },
      "execution_count": null,
      "outputs": [
        {
          "output_type": "stream",
          "name": "stdout",
          "text": [
            "(146, 1)\n",
            "(49, 1)\n",
            "(146, 1)\n",
            "(49, 1)\n"
          ]
        }
      ]
    },
    {
      "cell_type": "code",
      "source": [
        "from sklearn.preprocessing import StandardScaler"
      ],
      "metadata": {
        "id": "DEtPIEfLUtdy"
      },
      "execution_count": null,
      "outputs": []
    },
    {
      "cell_type": "code",
      "source": [
        "sc=StandardScaler()"
      ],
      "metadata": {
        "id": "CC6ligCdU9Iz"
      },
      "execution_count": null,
      "outputs": []
    },
    {
      "cell_type": "code",
      "source": [
        "sc.fit(X_train)\n",
        "X_train_sc=sc.transform(X_train)\n",
        "X_test_sc=sc.transform(X_test)"
      ],
      "metadata": {
        "id": "TANjPfdiU_up"
      },
      "execution_count": null,
      "outputs": []
    },
    {
      "cell_type": "code",
      "source": [
        "X_train_sc"
      ],
      "metadata": {
        "colab": {
          "base_uri": "https://localhost:8080/"
        },
        "id": "WUYKx4xWVXvc",
        "outputId": "dd82f68f-3e68-45e3-d088-71d0b8ce8b80"
      },
      "execution_count": null,
      "outputs": [
        {
          "output_type": "execute_result",
          "data": {
            "text/plain": [
              "array([[ 0.48717545],\n",
              "       [-1.02974531],\n",
              "       [ 0.70273788],\n",
              "       [-1.34111326],\n",
              "       [-0.12757665],\n",
              "       [-1.29321049],\n",
              "       [ 0.27959682],\n",
              "       [-0.11959285],\n",
              "       [-1.30917808],\n",
              "       [ 0.27161303],\n",
              "       [-1.46885395],\n",
              "       [-1.48482154],\n",
              "       [-1.06168048],\n",
              "       [-0.26330113],\n",
              "       [ 1.08595996],\n",
              "       [-1.24530773],\n",
              "       [-1.22135635],\n",
              "       [ 1.21370066],\n",
              "       [-0.56668529],\n",
              "       [-1.39699981],\n",
              "       [ 0.79055961],\n",
              "       [-1.22934015],\n",
              "       [-1.34909705],\n",
              "       [ 1.48514964],\n",
              "       [-0.422977  ],\n",
              "       [-0.90998841],\n",
              "       [-0.6704746 ],\n",
              "       [ 0.49515925],\n",
              "       [-1.22934015],\n",
              "       [ 1.18176549],\n",
              "       [ 0.35943476],\n",
              "       [ 1.43724688],\n",
              "       [-1.12555083],\n",
              "       [ 0.14387233],\n",
              "       [ 0.03209922],\n",
              "       [-1.02974531],\n",
              "       [-0.71837736],\n",
              "       [ 1.18176549],\n",
              "       [ 0.69475408],\n",
              "       [-0.83015047],\n",
              "       [ 0.37540234],\n",
              "       [ 1.22168445],\n",
              "       [ 0.97418686],\n",
              "       [-1.05369669],\n",
              "       [-0.7902315 ],\n",
              "       [ 0.71870546],\n",
              "       [ 0.35943476],\n",
              "       [ 1.30152239],\n",
              "       [ 1.30152239],\n",
              "       [-0.19943079],\n",
              "       [-1.50078913],\n",
              "       [ 1.50910102],\n",
              "       [ 1.43724688],\n",
              "       [ 0.62289994],\n",
              "       [ 0.58298098],\n",
              "       [ 0.97418686],\n",
              "       [-1.57264327],\n",
              "       [ 0.1837913 ],\n",
              "       [-1.58861085],\n",
              "       [ 0.77459202],\n",
              "       [ 0.88636513],\n",
              "       [ 0.69475408],\n",
              "       [-1.30119429],\n",
              "       [ 1.42926308],\n",
              "       [ 0.99813824],\n",
              "       [ 0.86241375],\n",
              "       [-0.57466908],\n",
              "       [ 1.00612203],\n",
              "       [-1.08563186],\n",
              "       [ 1.34144136],\n",
              "       [ 0.1837913 ],\n",
              "       [-1.58861085],\n",
              "       [ 1.26958722],\n",
              "       [-0.38305804],\n",
              "       [-0.38305804],\n",
              "       [-1.14950221],\n",
              "       [ 1.52506861],\n",
              "       [-1.36506464],\n",
              "       [-0.41499321],\n",
              "       [-0.95789117],\n",
              "       [ 1.33345756],\n",
              "       [ 0.17580751],\n",
              "       [ 0.08798578],\n",
              "       [ 1.046041  ],\n",
              "       [ 0.65483512],\n",
              "       [ 0.21572647],\n",
              "       [ 0.53507821],\n",
              "       [ 0.4312889 ],\n",
              "       [-0.49483115],\n",
              "       [ 0.08798578],\n",
              "       [-1.14151842],\n",
              "       [ 0.94225168],\n",
              "       [-0.41499321],\n",
              "       [ 1.2855548 ],\n",
              "       [ 0.56701339],\n",
              "       [ 0.80652719],\n",
              "       [-0.98982634],\n",
              "       [ 0.86241375],\n",
              "       [-1.48482154],\n",
              "       [ 1.06200858],\n",
              "       [-1.43691878],\n",
              "       [-1.54869189],\n",
              "       [ 1.2855548 ],\n",
              "       [-0.71837736],\n",
              "       [-0.19943079],\n",
              "       [ 0.62289994],\n",
              "       [ 0.31951579],\n",
              "       [ 1.39732791],\n",
              "       [-1.54869189],\n",
              "       [ 1.35740894],\n",
              "       [ 0.57499718],\n",
              "       [-1.45288636],\n",
              "       [ 1.01410582],\n",
              "       [ 1.30950618],\n",
              "       [ 0.72668926],\n",
              "       [-0.08765768],\n",
              "       [-0.24733355],\n",
              "       [ 0.83846237],\n",
              "       [ 0.94225168],\n",
              "       [-0.15951182],\n",
              "       [ 0.68677029],\n",
              "       [-1.10958324],\n",
              "       [ 0.7985434 ],\n",
              "       [-0.58265287],\n",
              "       [ 0.1837913 ],\n",
              "       [-0.95789117],\n",
              "       [-0.45491218],\n",
              "       [ 1.01410582],\n",
              "       [-0.85410185],\n",
              "       [ 0.14387233],\n",
              "       [ 1.06999238],\n",
              "       [-1.48482154],\n",
              "       [ 1.46918205],\n",
              "       [-1.26925911],\n",
              "       [ 0.82249478],\n",
              "       [ 0.35145096],\n",
              "       [-0.58265287],\n",
              "       [ 1.36539274],\n",
              "       [-1.1654698 ],\n",
              "       [-1.62054603],\n",
              "       [-0.39104183],\n",
              "       [-1.38901602],\n",
              "       [ 0.93426789],\n",
              "       [-0.44692838],\n",
              "       [-1.58861085],\n",
              "       [ 1.47716585]])"
            ]
          },
          "metadata": {},
          "execution_count": 18
        }
      ]
    },
    {
      "cell_type": "markdown",
      "source": [
        "Creating Machine learning models\n",
        "1.Linear regression model\n"
      ],
      "metadata": {
        "id": "jl_JW6GVWYP6"
      }
    },
    {
      "cell_type": "code",
      "source": [
        "from sklearn.linear_model import LinearRegression\n",
        "lr=LinearRegression()"
      ],
      "metadata": {
        "id": "VdzI_eJYWe2I"
      },
      "execution_count": null,
      "outputs": []
    },
    {
      "cell_type": "code",
      "source": [
        "lr.fit(X_train_sc,y_train)"
      ],
      "metadata": {
        "colab": {
          "base_uri": "https://localhost:8080/"
        },
        "id": "9H6wP3azWri5",
        "outputId": "0f2f862d-b9b8-4e83-f777-eb56e459ff89"
      },
      "execution_count": null,
      "outputs": [
        {
          "output_type": "execute_result",
          "data": {
            "text/plain": [
              "LinearRegression()"
            ]
          },
          "metadata": {},
          "execution_count": 20
        }
      ]
    },
    {
      "cell_type": "code",
      "source": [
        "y_pred=lr.predict(X_test_sc)"
      ],
      "metadata": {
        "id": "f1SS9GR4W1Mn"
      },
      "execution_count": null,
      "outputs": []
    },
    {
      "cell_type": "code",
      "source": [
        "y_pred"
      ],
      "metadata": {
        "colab": {
          "base_uri": "https://localhost:8080/"
        },
        "id": "ZtXVTYkOXGQm",
        "outputId": "953e9f0c-4c29-430b-c48b-51be34ba9ec4"
      },
      "execution_count": null,
      "outputs": [
        {
          "output_type": "execute_result",
          "data": {
            "text/plain": [
              "array([[72.65550783],\n",
              "       [81.47454262],\n",
              "       [78.36651274],\n",
              "       [71.76194924],\n",
              "       [71.72309887],\n",
              "       [84.62142288],\n",
              "       [70.47988691],\n",
              "       [75.56928585],\n",
              "       [70.63528841],\n",
              "       [80.58098403],\n",
              "       [70.9460914 ],\n",
              "       [76.69594668],\n",
              "       [75.37503398],\n",
              "       [71.68424849],\n",
              "       [71.72309887],\n",
              "       [82.05729823],\n",
              "       [78.52191424],\n",
              "       [75.45273473],\n",
              "       [78.01685938],\n",
              "       [85.55383184],\n",
              "       [71.72309887],\n",
              "       [73.27711381],\n",
              "       [84.19406877],\n",
              "       [82.64005383],\n",
              "       [71.95620111],\n",
              "       [85.4761311 ],\n",
              "       [81.66879449],\n",
              "       [70.9460914 ],\n",
              "       [78.98811872],\n",
              "       [70.24678467],\n",
              "       [73.51021605],\n",
              "       [81.31914113],\n",
              "       [70.47988691],\n",
              "       [81.39684188],\n",
              "       [80.11477955],\n",
              "       [76.65709631],\n",
              "       [84.42717101],\n",
              "       [70.28563505],\n",
              "       [81.3579915 ],\n",
              "       [76.92904892],\n",
              "       [76.0743407 ],\n",
              "       [73.78216866],\n",
              "       [79.57087432],\n",
              "       [77.00674967],\n",
              "       [80.7752359 ],\n",
              "       [76.0743407 ],\n",
              "       [75.88008883],\n",
              "       [78.8715676 ],\n",
              "       [83.06740794]])"
            ]
          },
          "metadata": {},
          "execution_count": 22
        }
      ]
    },
    {
      "cell_type": "code",
      "source": [
        "lr.predict([[7.6]])"
      ],
      "metadata": {
        "colab": {
          "base_uri": "https://localhost:8080/"
        },
        "id": "MBo7HlyPXHfU",
        "outputId": "f029aaa7-cfdb-4e76-9914-77af47b86ae9"
      },
      "execution_count": null,
      "outputs": [
        {
          "output_type": "execute_result",
          "data": {
            "text/plain": [
              "array([[115.27078878]])"
            ]
          },
          "metadata": {},
          "execution_count": 23
        }
      ]
    },
    {
      "cell_type": "code",
      "source": [
        "from sklearn.metrics import r2_score"
      ],
      "metadata": {
        "id": "Ooojk04tXW4O"
      },
      "execution_count": null,
      "outputs": []
    },
    {
      "cell_type": "code",
      "source": [
        "r2_score(y_test,y_pred)"
      ],
      "metadata": {
        "colab": {
          "base_uri": "https://localhost:8080/"
        },
        "id": "sweuU-KRX1Cp",
        "outputId": "87f5dbfd-ff0c-4d6b-9857-f988b99d55aa"
      },
      "execution_count": null,
      "outputs": [
        {
          "output_type": "execute_result",
          "data": {
            "text/plain": [
              "0.9513121057797149"
            ]
          },
          "metadata": {},
          "execution_count": 25
        }
      ]
    },
    {
      "cell_type": "code",
      "source": [
        "from sklearn.metrics import mean_squared_error\n",
        "mse=mean_squared_error(y_test,y_pred)\n",
        "mse"
      ],
      "metadata": {
        "colab": {
          "base_uri": "https://localhost:8080/"
        },
        "id": "pDI9Xp7ldWsz",
        "outputId": "5a19f2f6-8319-40ea-c2db-3f0bf417767f"
      },
      "execution_count": null,
      "outputs": [
        {
          "output_type": "execute_result",
          "data": {
            "text/plain": [
              "1.1545937716607912"
            ]
          },
          "metadata": {},
          "execution_count": 26
        }
      ]
    },
    {
      "cell_type": "code",
      "source": [
        "rsme=np.sqrt(mse)\n",
        "rsme"
      ],
      "metadata": {
        "colab": {
          "base_uri": "https://localhost:8080/"
        },
        "id": "dj5YUsPlYIt4",
        "outputId": "3013bce6-5f3b-4bec-fc91-80e1d0c79314"
      },
      "execution_count": null,
      "outputs": [
        {
          "output_type": "execute_result",
          "data": {
            "text/plain": [
              "1.0745202518616348"
            ]
          },
          "metadata": {},
          "execution_count": 27
        }
      ]
    },
    {
      "cell_type": "code",
      "source": [],
      "metadata": {
        "id": "UGgCJA7SePjM"
      },
      "execution_count": null,
      "outputs": []
    },
    {
      "cell_type": "markdown",
      "source": [
        "2nd Model "
      ],
      "metadata": {
        "id": "OVkqzL03YYwx"
      }
    },
    {
      "cell_type": "code",
      "source": [
        "\n",
        "#applying the decision tree \n",
        "from sklearn.tree import DecisionTreeRegressor\n"
      ],
      "metadata": {
        "id": "KVa_T5j7Yb5e"
      },
      "execution_count": null,
      "outputs": []
    },
    {
      "cell_type": "code",
      "source": [
        "dt=DecisionTreeRegressor()"
      ],
      "metadata": {
        "id": "HNu58hu7ZV6N"
      },
      "execution_count": null,
      "outputs": []
    },
    {
      "cell_type": "code",
      "source": [
        "dt.fit(X_train_sc,y_train)"
      ],
      "metadata": {
        "colab": {
          "base_uri": "https://localhost:8080/"
        },
        "id": "vqNfhU7eZkVO",
        "outputId": "103fa712-028a-4e48-df37-2b108026b9f5"
      },
      "execution_count": null,
      "outputs": [
        {
          "output_type": "execute_result",
          "data": {
            "text/plain": [
              "DecisionTreeRegressor()"
            ]
          },
          "metadata": {},
          "execution_count": 30
        }
      ]
    },
    {
      "cell_type": "code",
      "source": [
        "model2=dt.predict(X_test_sc)"
      ],
      "metadata": {
        "id": "YKAWTvt0av-t"
      },
      "execution_count": null,
      "outputs": []
    },
    {
      "cell_type": "code",
      "source": [
        "model2"
      ],
      "metadata": {
        "colab": {
          "base_uri": "https://localhost:8080/"
        },
        "id": "jx_L-repcQh1",
        "outputId": "6a88fa43-1c92-4783-9d68-0e5d59c38bdb"
      },
      "execution_count": null,
      "outputs": [
        {
          "output_type": "execute_result",
          "data": {
            "text/plain": [
              "array([73.08 , 79.1  , 78.42 , 71.1  , 71.87 , 84.235, 70.67 , 75.04 ,\n",
              "       71.79 , 81.01 , 68.57 , 76.8  , 74.605, 71.8  , 71.87 , 81.74 ,\n",
              "       78.42 , 74.605, 77.19 , 86.75 , 71.87 , 73.79 , 83.91 , 83.08 ,\n",
              "       70.96 , 85.96 , 82.355, 68.57 , 79.64 , 70.67 , 74.25 , 81.245,\n",
              "       70.67 , 79.1  , 79.64 , 76.8  , 84.19 , 70.67 , 81.245, 77.07 ,\n",
              "       74.75 , 74.15 , 82.18 , 77.07 , 80.81 , 74.75 , 77.07 , 79.64 ,\n",
              "       82.43 ])"
            ]
          },
          "metadata": {},
          "execution_count": 32
        }
      ]
    },
    {
      "cell_type": "code",
      "source": [
        "r2_score(y_test,model2)"
      ],
      "metadata": {
        "colab": {
          "base_uri": "https://localhost:8080/"
        },
        "id": "9KALLi11cRrF",
        "outputId": "e7a6a935-e201-4802-e965-eb8adc010a6e"
      },
      "execution_count": null,
      "outputs": [
        {
          "output_type": "execute_result",
          "data": {
            "text/plain": [
              "0.9047319998021276"
            ]
          },
          "metadata": {},
          "execution_count": 33
        }
      ]
    },
    {
      "cell_type": "code",
      "source": [
        "#Here My model has 90% of accuracy in Decision tree regression "
      ],
      "metadata": {
        "id": "RXGO-YSrcgWN"
      },
      "execution_count": null,
      "outputs": []
    },
    {
      "cell_type": "code",
      "source": [
        "from sklearn.metrics import mean_squared_error"
      ],
      "metadata": {
        "id": "WQN9BX4ncy2-"
      },
      "execution_count": null,
      "outputs": []
    },
    {
      "cell_type": "code",
      "source": [
        "mse=mean_squared_error(y_test,model2)"
      ],
      "metadata": {
        "id": "Q8q3C_P7cz2C"
      },
      "execution_count": null,
      "outputs": []
    },
    {
      "cell_type": "code",
      "source": [
        "mse"
      ],
      "metadata": {
        "colab": {
          "base_uri": "https://localhost:8080/"
        },
        "id": "tyfceb1IdAS6",
        "outputId": "efee979e-7b38-41d3-833f-4f406eb5c822"
      },
      "execution_count": null,
      "outputs": [
        {
          "output_type": "execute_result",
          "data": {
            "text/plain": [
              "2.2592030612244947"
            ]
          },
          "metadata": {},
          "execution_count": 37
        }
      ]
    },
    {
      "cell_type": "code",
      "source": [
        "rsme = np.sqrt(mse)"
      ],
      "metadata": {
        "id": "IzgVjfGWdBiD"
      },
      "execution_count": null,
      "outputs": []
    },
    {
      "cell_type": "code",
      "source": [
        "rsme"
      ],
      "metadata": {
        "colab": {
          "base_uri": "https://localhost:8080/"
        },
        "id": "dqURpeIYdJm6",
        "outputId": "b8b1d0c7-27a0-4ea1-f56a-5f66ee70571f"
      },
      "execution_count": null,
      "outputs": [
        {
          "output_type": "execute_result",
          "data": {
            "text/plain": [
              "1.503064556572503"
            ]
          },
          "metadata": {},
          "execution_count": 39
        }
      ]
    },
    {
      "cell_type": "markdown",
      "source": [
        "Model 3 "
      ],
      "metadata": {
        "id": "z__4Jv25e9aK"
      }
    },
    {
      "cell_type": "markdown",
      "source": [
        "Here Iam applying KNN regressor model"
      ],
      "metadata": {
        "id": "NYbRH0spfsR-"
      }
    },
    {
      "cell_type": "code",
      "source": [
        "from sklearn.neighbors import KNeighborsRegressor"
      ],
      "metadata": {
        "id": "oxyn9hdNe_Jp"
      },
      "execution_count": null,
      "outputs": []
    },
    {
      "cell_type": "code",
      "source": [
        "model2=KNeighborsRegressor()"
      ],
      "metadata": {
        "id": "nfnd6-oEfxl1"
      },
      "execution_count": null,
      "outputs": []
    },
    {
      "cell_type": "code",
      "source": [
        "model2.fit(X_train_sc,y_train)"
      ],
      "metadata": {
        "colab": {
          "base_uri": "https://localhost:8080/"
        },
        "id": "awpYh6jUgCDy",
        "outputId": "9837baff-8519-4029-8ede-f6006131dc75"
      },
      "execution_count": null,
      "outputs": [
        {
          "output_type": "execute_result",
          "data": {
            "text/plain": [
              "KNeighborsRegressor()"
            ]
          },
          "metadata": {},
          "execution_count": 42
        }
      ]
    },
    {
      "cell_type": "code",
      "source": [
        "y_pred1=model2.predict(X_test_sc)"
      ],
      "metadata": {
        "id": "b1L4tpE8gOBL"
      },
      "execution_count": null,
      "outputs": []
    },
    {
      "cell_type": "code",
      "source": [
        "y_pred1"
      ],
      "metadata": {
        "colab": {
          "base_uri": "https://localhost:8080/"
        },
        "id": "wZoPKCsfgdya",
        "outputId": "dba0f0df-2edd-4de5-f137-a52694192ee1"
      },
      "execution_count": null,
      "outputs": [
        {
          "output_type": "execute_result",
          "data": {
            "text/plain": [
              "array([[72.68 ],\n",
              "       [81.31 ],\n",
              "       [78.172],\n",
              "       [71.562],\n",
              "       [71.79 ],\n",
              "       [84.12 ],\n",
              "       [71.228],\n",
              "       [75.472],\n",
              "       [71.338],\n",
              "       [80.098],\n",
              "       [70.352],\n",
              "       [76.548],\n",
              "       [75.094],\n",
              "       [71.744],\n",
              "       [71.79 ],\n",
              "       [82.388],\n",
              "       [78.708],\n",
              "       [75.094],\n",
              "       [77.546],\n",
              "       [86.14 ],\n",
              "       [71.79 ],\n",
              "       [73.864],\n",
              "       [84.106],\n",
              "       [82.816],\n",
              "       [71.77 ],\n",
              "       [86.204],\n",
              "       [82.41 ],\n",
              "       [70.352],\n",
              "       [79.16 ],\n",
              "       [71.228],\n",
              "       [73.714],\n",
              "       [81.148],\n",
              "       [71.228],\n",
              "       [81.44 ],\n",
              "       [80.522],\n",
              "       [76.674],\n",
              "       [84.228],\n",
              "       [71.228],\n",
              "       [81.414],\n",
              "       [76.724],\n",
              "       [76.21 ],\n",
              "       [74.1  ],\n",
              "       [79.642],\n",
              "       [77.072],\n",
              "       [80.418],\n",
              "       [76.21 ],\n",
              "       [75.818],\n",
              "       [78.922],\n",
              "       [83.168]])"
            ]
          },
          "metadata": {},
          "execution_count": 44
        }
      ]
    },
    {
      "cell_type": "code",
      "source": [
        "r2_score(y_test,y_pred1)"
      ],
      "metadata": {
        "colab": {
          "base_uri": "https://localhost:8080/"
        },
        "id": "uCYZyZ7mgfS6",
        "outputId": "5b686c3f-b6f4-47e2-c932-2c1a0ea43214"
      },
      "execution_count": null,
      "outputs": [
        {
          "output_type": "execute_result",
          "data": {
            "text/plain": [
              "0.9464305282595222"
            ]
          },
          "metadata": {},
          "execution_count": 45
        }
      ]
    },
    {
      "cell_type": "code",
      "source": [
        "#Here my model has 94% accurancy Lets calculate MSE & RMSE\n"
      ],
      "metadata": {
        "id": "bNIaq2n4glbh"
      },
      "execution_count": null,
      "outputs": []
    },
    {
      "cell_type": "code",
      "source": [
        "mse=mean_squared_error(y_test,y_pred1)"
      ],
      "metadata": {
        "id": "2UMavgJpgxm3"
      },
      "execution_count": null,
      "outputs": []
    },
    {
      "cell_type": "code",
      "source": [
        "mse"
      ],
      "metadata": {
        "colab": {
          "base_uri": "https://localhost:8080/"
        },
        "id": "IHZNnm0Fg70-",
        "outputId": "0f5d2c96-38c4-4dd8-c2ab-c35ede1a3fce"
      },
      "execution_count": null,
      "outputs": [
        {
          "output_type": "execute_result",
          "data": {
            "text/plain": [
              "1.2703564081632646"
            ]
          },
          "metadata": {},
          "execution_count": 48
        }
      ]
    },
    {
      "cell_type": "code",
      "source": [
        "rmse=np.sqrt(mse)"
      ],
      "metadata": {
        "id": "JWzQSyKqg_NE"
      },
      "execution_count": null,
      "outputs": []
    },
    {
      "cell_type": "code",
      "source": [
        "rmse"
      ],
      "metadata": {
        "colab": {
          "base_uri": "https://localhost:8080/"
        },
        "id": "JSrt9ALRhJOS",
        "outputId": "6cccd2a5-4051-4d6a-c844-04a586b09f60"
      },
      "execution_count": null,
      "outputs": [
        {
          "output_type": "execute_result",
          "data": {
            "text/plain": [
              "1.1271008864175667"
            ]
          },
          "metadata": {},
          "execution_count": 50
        }
      ]
    },
    {
      "cell_type": "markdown",
      "source": [
        "Random forest Model "
      ],
      "metadata": {
        "id": "W6M4zXdyhOSp"
      }
    },
    {
      "cell_type": "code",
      "source": [
        "from sklearn.ensemble import RandomForestRegressor\n",
        "rfr=RandomForestRegressor()"
      ],
      "metadata": {
        "id": "js-DqE6hhRTq"
      },
      "execution_count": null,
      "outputs": []
    },
    {
      "cell_type": "code",
      "source": [
        "rfr.fit(X_train_sc,y_train)"
      ],
      "metadata": {
        "colab": {
          "base_uri": "https://localhost:8080/"
        },
        "id": "DvNRY4C5hlWq",
        "outputId": "efc1c557-74c2-4436-ff49-493a40820670"
      },
      "execution_count": null,
      "outputs": [
        {
          "output_type": "execute_result",
          "data": {
            "text/plain": [
              "RandomForestRegressor()"
            ]
          },
          "metadata": {},
          "execution_count": 52
        }
      ]
    },
    {
      "cell_type": "code",
      "source": [
        "y_pred_rf=rfr.predict(X_test_sc)"
      ],
      "metadata": {
        "id": "x-5gg5jqhtKr"
      },
      "execution_count": null,
      "outputs": []
    },
    {
      "cell_type": "code",
      "source": [
        "y_pred_rf"
      ],
      "metadata": {
        "colab": {
          "base_uri": "https://localhost:8080/"
        },
        "id": "JyDh2kI2h70z",
        "outputId": "53b48959-b078-42fc-fdb8-ee0af4ba3f29"
      },
      "execution_count": null,
      "outputs": [
        {
          "output_type": "execute_result",
          "data": {
            "text/plain": [
              "array([72.9294    , 79.8155381 , 78.23465095, 71.3898    , 71.7342    ,\n",
              "       84.13634333, 70.86752333, 75.24725   , 71.551225  , 80.7811    ,\n",
              "       69.4518069 , 76.72283333, 74.82575833, 71.7613    , 71.7342    ,\n",
              "       81.8798    , 78.33265095, 74.86155833, 77.39303333, 86.48956   ,\n",
              "       71.7342    , 73.63085   , 83.94976667, 83.09755   , 71.3952    ,\n",
              "       86.07089333, 82.40204167, 69.4518069 , 79.55217571, 70.86752333,\n",
              "       73.96305   , 81.01721643, 70.86752333, 79.8155381 , 80.27248333,\n",
              "       76.68040833, 84.30753333, 70.86752333, 81.01721643, 76.98811667,\n",
              "       75.3256    , 73.92605   , 81.2001    , 76.98885   , 80.7029    ,\n",
              "       75.3256    , 76.5898    , 79.46217238, 82.58101667])"
            ]
          },
          "metadata": {},
          "execution_count": 54
        }
      ]
    },
    {
      "cell_type": "code",
      "source": [
        "r2_score(y_test,y_pred_rf)"
      ],
      "metadata": {
        "colab": {
          "base_uri": "https://localhost:8080/"
        },
        "id": "6EYIh9qih9n0",
        "outputId": "829edbd3-af9e-4492-8a3c-a84cb6821d22"
      },
      "execution_count": null,
      "outputs": [
        {
          "output_type": "execute_result",
          "data": {
            "text/plain": [
              "0.9283185434339423"
            ]
          },
          "metadata": {},
          "execution_count": 55
        }
      ]
    },
    {
      "cell_type": "code",
      "source": [
        "# Here my model has 92% accuracy Now we are calculating MSE and RMSE\n"
      ],
      "metadata": {
        "id": "CvOKUTZ-iHf_"
      },
      "execution_count": null,
      "outputs": []
    },
    {
      "cell_type": "code",
      "source": [
        "mse=mean_squared_error(y_test,y_pred_rf)"
      ],
      "metadata": {
        "id": "SWaE2xI3iQgz"
      },
      "execution_count": null,
      "outputs": []
    },
    {
      "cell_type": "code",
      "source": [
        "mse"
      ],
      "metadata": {
        "colab": {
          "base_uri": "https://localhost:8080/"
        },
        "id": "fiyF2bvjicUv",
        "outputId": "082bdbf4-0036-46d7-cca4-6efcce26cf2a"
      },
      "execution_count": null,
      "outputs": [
        {
          "output_type": "execute_result",
          "data": {
            "text/plain": [
              "1.6998673822344479"
            ]
          },
          "metadata": {},
          "execution_count": 58
        }
      ]
    },
    {
      "cell_type": "code",
      "source": [
        "rmse=np.sqrt(mse)"
      ],
      "metadata": {
        "id": "1CJTpcvVic8J"
      },
      "execution_count": null,
      "outputs": []
    },
    {
      "cell_type": "code",
      "source": [
        "rmse"
      ],
      "metadata": {
        "colab": {
          "base_uri": "https://localhost:8080/"
        },
        "id": "LFuKWM99igfP",
        "outputId": "9bdcc075-ccee-45de-ebc9-c41b2d724c39"
      },
      "execution_count": null,
      "outputs": [
        {
          "output_type": "execute_result",
          "data": {
            "text/plain": [
              "1.3037896234571158"
            ]
          },
          "metadata": {},
          "execution_count": 60
        }
      ]
    },
    {
      "cell_type": "code",
      "source": [
        "import joblib"
      ],
      "metadata": {
        "id": "o4MIXAvIlFq3"
      },
      "execution_count": null,
      "outputs": []
    },
    {
      "cell_type": "code",
      "source": [
        "joblib.dump(lr,\"Regressionmodel.pkl\")"
      ],
      "metadata": {
        "colab": {
          "base_uri": "https://localhost:8080/"
        },
        "id": "lmfpclTAl0zb",
        "outputId": "096ea737-dd56-4552-b163-ba2954be43eb"
      },
      "execution_count": null,
      "outputs": [
        {
          "output_type": "execute_result",
          "data": {
            "text/plain": [
              "['Regressionmodel.pkl']"
            ]
          },
          "metadata": {},
          "execution_count": 68
        }
      ]
    },
    {
      "cell_type": "code",
      "source": [],
      "metadata": {
        "id": "eK6zl8GW2SGH"
      },
      "execution_count": null,
      "outputs": []
    }
  ]
}